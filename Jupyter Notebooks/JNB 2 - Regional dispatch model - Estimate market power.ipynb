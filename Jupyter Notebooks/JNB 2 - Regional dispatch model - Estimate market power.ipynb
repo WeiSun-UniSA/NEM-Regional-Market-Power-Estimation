{
 "cells": [
  {
   "cell_type": "code",
   "execution_count": 1,
   "id": "a2a727d6",
   "metadata": {
    "ExecuteTime": {
     "end_time": "2024-06-11T10:45:59.644061Z",
     "start_time": "2024-06-11T10:45:59.112166Z"
    }
   },
   "outputs": [
    {
     "name": "stdout",
     "output_type": "stream",
     "text": [
      "INFO: Pandarallel will run on 8 workers.\n",
      "INFO: Pandarallel will use standard multiprocessing data transfer (pipe) to transfer data between the main process and workers.\n"
     ]
    }
   ],
   "source": [
    "import pandas as pd\n",
    "import numpy as np\n",
    "import datetime\n",
    "import math\n",
    "\n",
    "from pandarallel import pandarallel\n",
    "pandarallel.initialize(nb_workers=8, progress_bar=False)"
   ]
  },
  {
   "cell_type": "code",
   "execution_count": 2,
   "id": "97dd5c1b-1317-4fd2-8389-bef966b39f32",
   "metadata": {
    "ExecuteTime": {
     "end_time": "2024-06-11T10:45:59.648955Z",
     "start_time": "2024-06-11T10:45:59.647426Z"
    }
   },
   "outputs": [],
   "source": [
    "# Set file paths\n",
    "file_path = '/Volumes/EnergyData/AER/'\n",
    "\n",
    "bid_dayoffer_path = f'{file_path}Raw_data_zipped/BIDDAYOFFER_D'\n",
    "bid_peroffer_path = f'{file_path}Raw_data_zipped/BIDPEROFFER_D'\n",
    "dispatch_load_path = f'{file_path}Raw_data_zipped/DISPATCHLOAD'\n",
    "dispatch_regionsum_path = f'{file_path}Raw_data_zipped/DISPATCHREGIONSUM'\n",
    "dispatch_price_path = f'{file_path}Raw_data_zipped/DISPATCHPRICE'"
   ]
  },
  {
   "cell_type": "markdown",
   "id": "0d6cb25a",
   "metadata": {},
   "source": [
    "# Data prep"
   ]
  },
  {
   "cell_type": "markdown",
   "id": "22ff5ad3",
   "metadata": {},
   "source": [
    "## Read DUID mapping"
   ]
  },
  {
   "cell_type": "code",
   "execution_count": 3,
   "id": "4e7fb045",
   "metadata": {
    "ExecuteTime": {
     "end_time": "2024-06-10T11:32:13.332832Z",
     "start_time": "2024-06-10T11:32:13.326053Z"
    }
   },
   "outputs": [],
   "source": [
    "def get_regional_duid_mapping(file_path,regionid):\n",
    "    # Read the duid mapping table\n",
    "    # It is obtained from Brian (from AER database)\n",
    "    # Only SA1 DUIDs, covers both GENERATOR and LOAD\n",
    "    duid_mapping = pd.read_csv(f'{file_path}Reference_data/duidinfo.csv',\n",
    "                               usecols=['DUID','REGIONID','STATIONNAME','PARTICIPANTNAME',\n",
    "                                        'DISPATCHTYPE','SCHEDULE_TYPE','FUELTYPE'])\n",
    "    duid_mapping = duid_mapping[(duid_mapping['REGIONID']==regionid)&\n",
    "                                (duid_mapping['DISPATCHTYPE']=='GENERATOR')&\n",
    "                                (duid_mapping['SCHEDULE_TYPE'].isin(['SCHEDULED','SEMI-SCHEDULED']))]\n",
    "    return duid_mapping"
   ]
  },
  {
   "cell_type": "markdown",
   "id": "04beb947",
   "metadata": {},
   "source": [
    "## Read DISPATCHPRICE"
   ]
  },
  {
   "cell_type": "code",
   "execution_count": 4,
   "id": "caa52cf5",
   "metadata": {
    "ExecuteTime": {
     "end_time": "2024-06-10T11:32:24.592067Z",
     "start_time": "2024-06-10T11:32:15.130778Z"
    }
   },
   "outputs": [],
   "source": [
    "# The dispatch price (ROP and RRP) are read as reference for calculating market power.\n",
    "dispatch_price = pd.DataFrame()\n",
    "for year in range(2017,2024):\n",
    "    for month in range(1,13):\n",
    "        try:\n",
    "            temp_price = pd.read_csv(f'{dispatch_price_path}/PUBLIC_DVD_DISPATCHPRICE_{str(year)}{str(month).zfill(2)}010000.zip',\n",
    "                                     skiprows=1,\n",
    "                                     usecols=['SETTLEMENTDATE','REGIONID','RRP','ROP',\n",
    "                                              'INTERVENTION','MARKETSUSPENDEDFLAG'],\n",
    "                                     parse_dates=['SETTLEMENTDATE']).dropna(subset=['REGIONID'])\n",
    "            temp_price = temp_price[(temp_price['REGIONID'].isin(['NSW1','QLD1','VIC1','SA1']))&\n",
    "                                    (temp_price['INTERVENTION']==0)].drop(columns=['INTERVENTION']).round(2)\n",
    "            dispatch_price = pd.concat([dispatch_price,temp_price])\n",
    "        except:\n",
    "            pass\n",
    "dispatch_price = dispatch_price.drop_duplicates(subset=['SETTLEMENTDATE','REGIONID'])\n",
    "dispatch_price = dispatch_price[(dispatch_price['SETTLEMENTDATE']>=datetime.datetime(2017,7,1,0,5,0))&\n",
    "                                (dispatch_price['SETTLEMENTDATE']<=datetime.datetime(2023,7,1,0,0,0))]\\\n",
    "                    .drop_duplicates()"
   ]
  },
  {
   "cell_type": "markdown",
   "id": "8e319a06",
   "metadata": {},
   "source": [
    "# Regional collective market power"
   ]
  },
  {
   "cell_type": "markdown",
   "id": "595be9ea",
   "metadata": {},
   "source": [
    "Read all regional collective data in one go as the data size is small."
   ]
  },
  {
   "cell_type": "code",
   "execution_count": 5,
   "id": "882e502e",
   "metadata": {
    "ExecuteTime": {
     "end_time": "2024-06-10T11:32:27.113624Z",
     "start_time": "2024-06-10T11:32:27.100579Z"
    }
   },
   "outputs": [],
   "source": [
    "def read_and_process_regional_collective_marketpower(regionid,dispatch_price):\n",
    "    temp_srmc_bid = pd.read_csv(f'/Volumes/EnergyData/AER/Lerner_Index/Regional_SRMC_Supply_Curve_{regionid}.csv',\n",
    "                                parse_dates=['SETTLEMENTDATE'],\n",
    "                                usecols=['SETTLEMENTDATE','FY','Year','Quarter','Month','Hour',\n",
    "                                         'REGIONID','RRP_simulated'])\\\n",
    "                        .rename(columns={'RRP_simulated':'P0'})\n",
    "    temp_actual_bid = pd.read_csv(f'/Volumes/EnergyData/AER/Lerner_Index/Regional_Actual_Supply_Curve_{regionid}.csv',\n",
    "                                  parse_dates=['SETTLEMENTDATE'],\n",
    "                                  usecols=['SETTLEMENTDATE','REGIONID','RRP_simulated','RegionalTarget']).rename(columns={'RRP_simulated':'P1'})\n",
    "    temp_df = temp_srmc_bid.merge(right=temp_actual_bid,\n",
    "                                  on=['REGIONID','SETTLEMENTDATE'],\n",
    "                                  how='left')\n",
    "    temp_df = temp_df.merge(right=dispatch_price,\n",
    "                            on=['REGIONID','SETTLEMENTDATE'],\n",
    "                            how='left')\n",
    "\n",
    "    temp_df = temp_df[['SETTLEMENTDATE','REGIONID',\n",
    "                       'FY','Year','Quarter','Month','Hour',\n",
    "                       'RegionalTarget',\n",
    "                       'P0','P1','ROP','RRP',\n",
    "                       'MARKETSUSPENDEDFLAG']]\n",
    "\n",
    "    temp_df['Cost_P0'] = temp_df['RegionalTarget']*temp_df['P0']/12\n",
    "    temp_df['Cost_P1'] = temp_df['RegionalTarget']*temp_df['P1']/12\n",
    "    temp_df['Cost_RRP'] = temp_df['RegionalTarget']*temp_df['RRP']/12\n",
    "\n",
    "    temp_df['MarketPower_Tentative'] = temp_df['Cost_P1']-temp_df['Cost_P0']\n",
    "    temp_df['MarketPower_Effective'] = temp_df['Cost_RRP']-temp_df['Cost_P0']\n",
    "\n",
    "    temp_df['MARKETSUSPENDEDFLAG'] = temp_df['MARKETSUSPENDEDFLAG'].fillna(0)\n",
    "    temp_df = temp_df[temp_df['MARKETSUSPENDEDFLAG']==0]\n",
    "    \n",
    "    temp_df_agg = temp_df.groupby(by=['REGIONID','FY','Year','Quarter','Month','Hour'],\n",
    "                                  as_index=False)\\\n",
    "                                    [['RegionalTarget','Cost_P0','Cost_P1','Cost_RRP',\n",
    "                                      'MarketPower_Tentative','MarketPower_Effective']].sum()\n",
    "    return temp_df_agg"
   ]
  },
  {
   "cell_type": "code",
   "execution_count": null,
   "id": "6ecb87e3",
   "metadata": {
    "ExecuteTime": {
     "end_time": "2024-06-08T13:55:58.947373Z",
     "start_time": "2024-06-08T13:55:51.507988Z"
    }
   },
   "outputs": [],
   "source": [
    "for regionid in ['SA1','NSW1','QLD1','VIC1']:\n",
    "    print(regionid)\n",
    "    temp_df_agg = read_and_process_regional_collective_marketpower(regionid,dispatch_price)\n",
    "    temp_df_agg.to_csv(f'/Volumes/EnergyData/AER/Lerner_Index/Regional_collective_market_power_{regionid}.csv',\n",
    "                       index=False)"
   ]
  },
  {
   "cell_type": "markdown",
   "id": "c4171ff9",
   "metadata": {},
   "source": [
    "# Individual market power"
   ]
  },
  {
   "cell_type": "markdown",
   "id": "d003a54c",
   "metadata": {},
   "source": [
    "Read and process individual market power data at a monthly basis to avoid crashing from ram leak."
   ]
  },
  {
   "cell_type": "code",
   "execution_count": 6,
   "id": "c4bd28c4",
   "metadata": {
    "ExecuteTime": {
     "end_time": "2024-06-10T11:32:31.444710Z",
     "start_time": "2024-06-10T11:32:31.422818Z"
    }
   },
   "outputs": [],
   "source": [
    "def read_and_process_individual_market_power(file_path,dispatch_price_path,regionid,level,Year,Month):\n",
    "    \n",
    "    # Read dispatch price data\n",
    "    temp_price = pd.read_csv(f'{dispatch_price_path}/PUBLIC_DVD_DISPATCHPRICE_{str(Year)}{str(Month).zfill(2)}010000.zip',\n",
    "                             skiprows=1,\n",
    "                             usecols=['SETTLEMENTDATE','REGIONID','RRP',\n",
    "                                      'INTERVENTION','MARKETSUSPENDEDFLAG'],\n",
    "                             parse_dates=['SETTLEMENTDATE']).dropna(subset=['REGIONID'])\n",
    "    temp_price = temp_price[(temp_price['REGIONID']==regionid)&\n",
    "                            (temp_price['INTERVENTION']==0)].drop(columns=['INTERVENTION']).round(2)\n",
    "    \n",
    "    # Read regional duid mapping\n",
    "    duid_mapping = get_regional_duid_mapping(file_path,regionid)[['DUID','FUELTYPE','STATIONNAME','PARTICIPANTNAME']]\n",
    "    \n",
    "    if level == 'STATIONNAME':\n",
    "        duid_mapping = duid_mapping[['STATIONNAME','PARTICIPANTNAME','FUELTYPE']]\\\n",
    "                            .drop_duplicates(subset=['STATIONNAME','PARTICIPANTNAME'])\n",
    "    \n",
    "    # Read the individual market power data, filter by the specified Year and Month\n",
    "    temp_actual_bid_individual = pd.read_csv(f'{file_path}Lerner_Index/Regional_ACTUAL_Supply_Curve_{regionid}_{level}.csv',\n",
    "                                         parse_dates=['SETTLEMENTDATE'])\\\n",
    "                                .drop(columns=['TOTALDEMAND','NETINTERCHANGE','FIXEDLOAD','DISPATCHABLELOAD'])\\\n",
    "                                .rename(columns={'RRP_simulated':'P1'})\n",
    "    temp_actual_bid_individual = temp_actual_bid_individual[(temp_actual_bid_individual['Year']==Year)&\n",
    "                                                            (temp_actual_bid_individual['Month']==Month)]    \n",
    "    \n",
    "    # Read the P0 data\n",
    "    temp_srmc_bid = pd.read_csv(f'{file_path}Lerner_Index/Regional_SRMC_Supply_Curve_{regionid}.csv',\n",
    "                            parse_dates=['SETTLEMENTDATE'],\n",
    "                            usecols=['SETTLEMENTDATE','REGIONID','RRP_simulated'])\\\n",
    "                    .rename(columns={'RRP_simulated':'P0'})\n",
    "    # Merge data\n",
    "    temp_actual_bid_individual = temp_actual_bid_individual.merge(right=temp_srmc_bid,\n",
    "                                                              on=['REGIONID','SETTLEMENTDATE'],\n",
    "                                                              how='left')\n",
    "    del temp_srmc_bid\n",
    "    \n",
    "    # Collect and rename column names\n",
    "    individual_columns = [column.split('_')[2] for column in temp_actual_bid_individual.columns if column.startswith('RRP_simulated') ]\n",
    "\n",
    "    for column in temp_actual_bid_individual.columns:\n",
    "        if column.startswith('RRP_simulated'):\n",
    "            temp_actual_bid_individual.rename(columns={column:column.split('_')[2]},inplace=True)\n",
    "            \n",
    "    # Convert from wide to long format\n",
    "    market_power_individual = pd.melt(temp_actual_bid_individual,\n",
    "                                      id_vars=['REGIONID','SETTLEMENTDATE',\n",
    "                                               'RegionalTarget','P0','P1'],\n",
    "                                      value_vars=individual_columns)\\\n",
    "                                .rename(columns={'variable':level,\n",
    "                                                 'value':'P1_alt'})\n",
    "    \n",
    "    # Calculate the un-adjusted individual market power\n",
    "    market_power_individual['MarketPower_Tentative_Ind'] = (market_power_individual['P1']-market_power_individual['P1_alt'])\\\n",
    "                                                                *market_power_individual['RegionalTarget']/12\n",
    "\n",
    "    # Merge with dispatch price\n",
    "    market_power_individual = market_power_individual.merge(temp_price,\n",
    "                                                            on=['REGIONID','SETTLEMENTDATE'],\n",
    "                                                            how='left').drop_duplicates()\n",
    "    \n",
    "    # Re-arrange the dataframe\n",
    "    market_power_individual = market_power_individual[['REGIONID','SETTLEMENTDATE','MARKETSUSPENDEDFLAG',level,\n",
    "                                                       'RegionalTarget','P0','P1_alt','P1','RRP',\n",
    "                                                       'MarketPower_Tentative_Ind']]\n",
    "    \n",
    "    # Merge with duid mapping\n",
    "    if level in ['DUID','STATIONNAME']:\n",
    "        market_power_individual = market_power_individual.merge(right=duid_mapping,\n",
    "                                                                on=[level],\n",
    "                                                                how='left')\n",
    "\n",
    "    # Filter data (dropping market suspended period)\n",
    "    market_power_individual = market_power_individual[market_power_individual['MARKETSUSPENDEDFLAG']==0]\n",
    "    \n",
    "    \n",
    "    # Put seasonality tags back\n",
    "    market_power_individual = market_power_individual.merge(right=temp_actual_bid_individual[['SETTLEMENTDATE','FY','Year','Quarter','Month','Hour']],\n",
    "                                                            on=['SETTLEMENTDATE'],\n",
    "                                                            how='left')\n",
    "    \n",
    "    # Aggregate the result\n",
    "    if level == 'STATIONNAME':\n",
    "        market_power_individual_agg = market_power_individual.groupby(by=['REGIONID','PARTICIPANTNAME','STATIONNAME','FUELTYPE',\n",
    "                                                                          'FY','Year','Quarter','Month','Hour'],\n",
    "                                                                      as_index=False)[['MarketPower_Tentative_Ind']].sum()\n",
    "    elif level == 'PARTICIPANTNAME':\n",
    "        market_power_individual_agg = market_power_individual.groupby(by=['REGIONID','PARTICIPANTNAME',\n",
    "                                                                          'FY','Year','Quarter','Month','Hour'],\n",
    "                                                                      as_index=False)[['MarketPower_Tentative_Ind']].sum()\n",
    "    \n",
    "    return market_power_individual_agg"
   ]
  },
  {
   "cell_type": "markdown",
   "id": "ad498b84",
   "metadata": {},
   "source": [
    "## Estimating station-level individual market power"
   ]
  },
  {
   "cell_type": "code",
   "execution_count": 7,
   "id": "ca60a751",
   "metadata": {
    "ExecuteTime": {
     "end_time": "2024-06-10T11:43:27.419157Z",
     "start_time": "2024-06-10T11:32:44.025397Z"
    }
   },
   "outputs": [
    {
     "name": "stdout",
     "output_type": "stream",
     "text": [
      "Processing 2017 7\n",
      "Processing 2017 8\n",
      "Processing 2017 9\n",
      "Processing 2017 10\n",
      "Processing 2017 11\n",
      "Processing 2017 12\n",
      "Processing 2018 1\n",
      "Processing 2018 2\n",
      "Processing 2018 3\n",
      "Processing 2018 4\n",
      "Processing 2018 5\n",
      "Processing 2018 6\n",
      "Processing 2018 7\n",
      "Processing 2018 8\n",
      "Processing 2018 9\n",
      "Processing 2018 10\n",
      "Processing 2018 11\n",
      "Processing 2018 12\n",
      "Processing 2019 1\n",
      "Processing 2019 2\n",
      "Processing 2019 3\n",
      "Processing 2019 4\n",
      "Processing 2019 5\n",
      "Processing 2019 6\n",
      "Processing 2019 7\n",
      "Processing 2019 8\n",
      "Processing 2019 9\n",
      "Processing 2019 10\n",
      "Processing 2019 11\n",
      "Processing 2019 12\n",
      "Processing 2020 1\n",
      "Processing 2020 2\n",
      "Processing 2020 3\n",
      "Processing 2020 4\n",
      "Processing 2020 5\n",
      "Processing 2020 6\n",
      "Processing 2020 7\n",
      "Processing 2020 8\n",
      "Processing 2020 9\n",
      "Processing 2020 10\n",
      "Processing 2020 11\n",
      "Processing 2020 12\n",
      "Processing 2021 1\n",
      "Processing 2021 2\n",
      "Processing 2021 3\n",
      "Processing 2021 4\n",
      "Processing 2021 5\n",
      "Processing 2021 6\n",
      "Processing 2021 7\n",
      "Processing 2021 8\n",
      "Processing 2021 9\n",
      "Processing 2021 10\n",
      "Processing 2021 11\n",
      "Processing 2021 12\n",
      "Processing 2022 1\n",
      "Processing 2022 2\n",
      "Processing 2022 3\n",
      "Processing 2022 4\n",
      "Processing 2022 5\n",
      "Processing 2022 6\n",
      "Processing 2022 7\n",
      "Processing 2022 8\n",
      "Processing 2022 9\n",
      "Processing 2022 10\n",
      "Processing 2022 11\n",
      "Processing 2022 12\n",
      "Processing 2023 1\n",
      "Processing 2023 2\n",
      "Processing 2023 3\n",
      "Processing 2023 4\n",
      "Processing 2023 5\n",
      "Processing 2023 6\n",
      "NSW1 Done.\n",
      "Processing 2017 7\n",
      "Processing 2017 8\n",
      "Processing 2017 9\n",
      "Processing 2017 10\n",
      "Processing 2017 11\n",
      "Processing 2017 12\n",
      "Processing 2018 1\n",
      "Processing 2018 2\n",
      "Processing 2018 3\n",
      "Processing 2018 4\n",
      "Processing 2018 5\n",
      "Processing 2018 6\n",
      "Processing 2018 7\n",
      "Processing 2018 8\n",
      "Processing 2018 9\n",
      "Processing 2018 10\n",
      "Processing 2018 11\n",
      "Processing 2018 12\n",
      "Processing 2019 1\n",
      "Processing 2019 2\n",
      "Processing 2019 3\n",
      "Processing 2019 4\n",
      "Processing 2019 5\n",
      "Processing 2019 6\n",
      "Processing 2019 7\n",
      "Processing 2019 8\n",
      "Processing 2019 9\n",
      "Processing 2019 10\n",
      "Processing 2019 11\n",
      "Processing 2019 12\n",
      "Processing 2020 1\n",
      "Processing 2020 2\n",
      "Processing 2020 3\n",
      "Processing 2020 4\n",
      "Processing 2020 5\n",
      "Processing 2020 6\n",
      "Processing 2020 7\n",
      "Processing 2020 8\n",
      "Processing 2020 9\n",
      "Processing 2020 10\n",
      "Processing 2020 11\n",
      "Processing 2020 12\n",
      "Processing 2021 1\n",
      "Processing 2021 2\n",
      "Processing 2021 3\n",
      "Processing 2021 4\n",
      "Processing 2021 5\n",
      "Processing 2021 6\n",
      "Processing 2021 7\n",
      "Processing 2021 8\n",
      "Processing 2021 9\n",
      "Processing 2021 10\n",
      "Processing 2021 11\n",
      "Processing 2021 12\n",
      "Processing 2022 1\n",
      "Processing 2022 2\n",
      "Processing 2022 3\n",
      "Processing 2022 4\n",
      "Processing 2022 5\n",
      "Processing 2022 6\n",
      "Processing 2022 7\n",
      "Processing 2022 8\n",
      "Processing 2022 9\n",
      "Processing 2022 10\n",
      "Processing 2022 11\n",
      "Processing 2022 12\n",
      "Processing 2023 1\n",
      "Processing 2023 2\n",
      "Processing 2023 3\n",
      "Processing 2023 4\n",
      "Processing 2023 5\n",
      "Processing 2023 6\n",
      "QLD1 Done.\n",
      "Processing 2017 7\n",
      "Processing 2017 8\n",
      "Processing 2017 9\n",
      "Processing 2017 10\n",
      "Processing 2017 11\n",
      "Processing 2017 12\n",
      "Processing 2018 1\n",
      "Processing 2018 2\n",
      "Processing 2018 3\n",
      "Processing 2018 4\n",
      "Processing 2018 5\n",
      "Processing 2018 6\n",
      "Processing 2018 7\n",
      "Processing 2018 8\n",
      "Processing 2018 9\n",
      "Processing 2018 10\n",
      "Processing 2018 11\n",
      "Processing 2018 12\n",
      "Processing 2019 1\n",
      "Processing 2019 2\n",
      "Processing 2019 3\n",
      "Processing 2019 4\n",
      "Processing 2019 5\n",
      "Processing 2019 6\n",
      "Processing 2019 7\n",
      "Processing 2019 8\n",
      "Processing 2019 9\n",
      "Processing 2019 10\n",
      "Processing 2019 11\n",
      "Processing 2019 12\n",
      "Processing 2020 1\n",
      "Processing 2020 2\n",
      "Processing 2020 3\n",
      "Processing 2020 4\n",
      "Processing 2020 5\n",
      "Processing 2020 6\n",
      "Processing 2020 7\n",
      "Processing 2020 8\n",
      "Processing 2020 9\n",
      "Processing 2020 10\n",
      "Processing 2020 11\n",
      "Processing 2020 12\n",
      "Processing 2021 1\n",
      "Processing 2021 2\n",
      "Processing 2021 3\n",
      "Processing 2021 4\n",
      "Processing 2021 5\n",
      "Processing 2021 6\n",
      "Processing 2021 7\n",
      "Processing 2021 8\n",
      "Processing 2021 9\n",
      "Processing 2021 10\n",
      "Processing 2021 11\n",
      "Processing 2021 12\n",
      "Processing 2022 1\n",
      "Processing 2022 2\n",
      "Processing 2022 3\n",
      "Processing 2022 4\n",
      "Processing 2022 5\n",
      "Processing 2022 6\n",
      "Processing 2022 7\n",
      "Processing 2022 8\n",
      "Processing 2022 9\n",
      "Processing 2022 10\n",
      "Processing 2022 11\n",
      "Processing 2022 12\n",
      "Processing 2023 1\n",
      "Processing 2023 2\n",
      "Processing 2023 3\n",
      "Processing 2023 4\n",
      "Processing 2023 5\n",
      "Processing 2023 6\n",
      "VIC1 Done.\n"
     ]
    }
   ],
   "source": [
    "level = 'STATIONNAME'\n",
    "for regionid in ['SA1','NSW1','QLD1','VIC1']:\n",
    "    market_power_individual = pd.DataFrame()\n",
    "    \n",
    "    for Year in range(2017,2024):\n",
    "        if Year == 2017:\n",
    "            for Month in range(7,13):\n",
    "                print(f'Processing {Year} {Month}')\n",
    "                temp_market_power_individual =read_and_process_individual_market_power(file_path,dispatch_price_path,regionid,level,Year,Month)\n",
    "                market_power_individual = pd.concat([market_power_individual,temp_market_power_individual])\n",
    "\n",
    "        elif Year == 2023:\n",
    "            for Month in range(1,7):\n",
    "                print(f'Processing {Year} {Month}')\n",
    "                temp_market_power_individual =read_and_process_individual_market_power(file_path,dispatch_price_path,regionid,level,Year,Month)\n",
    "                market_power_individual = pd.concat([market_power_individual,temp_market_power_individual])\n",
    "        else:\n",
    "            for Month in range(1,13):\n",
    "                print(f'Processing {Year} {Month}')\n",
    "                temp_market_power_individual =read_and_process_individual_market_power(file_path,dispatch_price_path,regionid,level,Year,Month)\n",
    "                market_power_individual = pd.concat([market_power_individual,temp_market_power_individual])\n",
    "                \n",
    "    market_power_individual.to_csv(f'/Volumes/EnergyData/AER/Lerner_Index/Regional_individual_market_power_{regionid}_{level}.csv',\n",
    "                                   index=False)\n",
    "    print(regionid,'Done.')"
   ]
  },
  {
   "cell_type": "code",
   "execution_count": null,
   "id": "10265218",
   "metadata": {},
   "outputs": [],
   "source": []
  }
 ],
 "metadata": {
  "kernelspec": {
   "display_name": "Python 3 (ipykernel)",
   "language": "python",
   "name": "python3"
  },
  "language_info": {
   "codemirror_mode": {
    "name": "ipython",
    "version": 3
   },
   "file_extension": ".py",
   "mimetype": "text/x-python",
   "name": "python",
   "nbconvert_exporter": "python",
   "pygments_lexer": "ipython3",
   "version": "3.9.18"
  },
  "toc": {
   "base_numbering": 1,
   "nav_menu": {},
   "number_sections": true,
   "sideBar": true,
   "skip_h1_title": false,
   "title_cell": "Table of Contents",
   "title_sidebar": "Contents",
   "toc_cell": false,
   "toc_position": {
    "height": "calc(100% - 180px)",
    "left": "10px",
    "top": "150px",
    "width": "165px"
   },
   "toc_section_display": true,
   "toc_window_display": true
  },
  "varInspector": {
   "cols": {
    "lenName": 16,
    "lenType": 16,
    "lenVar": 40
   },
   "kernels_config": {
    "python": {
     "delete_cmd_postfix": "",
     "delete_cmd_prefix": "del ",
     "library": "var_list.py",
     "varRefreshCmd": "print(var_dic_list())"
    },
    "r": {
     "delete_cmd_postfix": ") ",
     "delete_cmd_prefix": "rm(",
     "library": "var_list.r",
     "varRefreshCmd": "cat(var_dic_list()) "
    }
   },
   "types_to_exclude": [
    "module",
    "function",
    "builtin_function_or_method",
    "instance",
    "_Feature"
   ],
   "window_display": false
  }
 },
 "nbformat": 4,
 "nbformat_minor": 5
}
